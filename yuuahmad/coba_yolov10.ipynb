{
 "cells": [
  {
   "cell_type": "code",
   "execution_count": null,
   "metadata": {},
   "outputs": [],
   "source": [
    "import os\n",
    "import urllib.request\n",
    "\n",
    "# Create a directory for the weights in the current working directory\n",
    "weights_dir = os.path.join(os.getcwd(), \"weights\")\n",
    "os.makedirs(weights_dir, exist_ok=True)\n",
    "\n",
    "# URLs of the weight files\n",
    "urls = [\n",
    "    \"https://github.com/jameslahm/yolov10/releases/download/v1.0/yolov10n.pt\",\n",
    "    \"https://github.com/jameslahm/yolov10/releases/download/v1.0/yolov10s.pt\",\n",
    "    \"https://github.com/jameslahm/yolov10/releases/download/v1.0/yolov10m.pt\",\n",
    "    \"https://github.com/jameslahm/yolov10/releases/download/v1.0/yolov10b.pt\",\n",
    "    \"https://github.com/jameslahm/yolov10/releases/download/v1.0/yolov10x.pt\",\n",
    "    \"https://github.com/jameslahm/yolov10/releases/download/v1.0/yolov10l.pt\"\n",
    "]\n",
    "\n",
    "# Download each file\n",
    "for url in urls:\n",
    "    file_name = os.path.join(weights_dir, os.path.basename(url))\n",
    "    urllib.request.urlretrieve(url, file_name)\n",
    "    print(f\"Downloaded {file_name}\")\n"
   ]
  },
  {
   "cell_type": "code",
   "execution_count": null,
   "metadata": {},
   "outputs": [],
   "source": [
    "!yolo task=detect mode=predict conf=0.25 save=True model=weights/yolov10s.pt source=konten/gambar.jpg"
   ]
  },
  {
   "cell_type": "code",
   "execution_count": null,
   "metadata": {},
   "outputs": [],
   "source": [
    "from ultralytics import YOLOv10\n",
    "\n",
    "model = YOLOv10(f'weights/yolov10n.pt')\n",
    "results = model(source=f'konten/gambar.jpg', conf=0.25)\n"
   ]
  },
  {
   "cell_type": "code",
   "execution_count": null,
   "metadata": {},
   "outputs": [],
   "source": [
    "print(results[0].boxes.xyxy)\n",
    "print(results[0].boxes.conf)\n",
    "print(results[0].boxes.cls)\n"
   ]
  },
  {
   "cell_type": "code",
   "execution_count": null,
   "metadata": {},
   "outputs": [],
   "source": [
    "!pip install supervision"
   ]
  },
  {
   "cell_type": "code",
   "execution_count": 1,
   "metadata": {},
   "outputs": [
    {
     "ename": "ModuleNotFoundError",
     "evalue": "No module named 'supervision'",
     "output_type": "error",
     "traceback": [
      "\u001b[1;31m---------------------------------------------------------------------------\u001b[0m",
      "\u001b[1;31mModuleNotFoundError\u001b[0m                       Traceback (most recent call last)",
      "Cell \u001b[1;32mIn[1], line 2\u001b[0m\n\u001b[0;32m      1\u001b[0m \u001b[39mimport\u001b[39;00m \u001b[39mcv2\u001b[39;00m\n\u001b[1;32m----> 2\u001b[0m \u001b[39mimport\u001b[39;00m \u001b[39msupervision\u001b[39;00m \u001b[39mas\u001b[39;00m \u001b[39msv\u001b[39;00m\n\u001b[0;32m      3\u001b[0m \u001b[39mfrom\u001b[39;00m \u001b[39multralytics\u001b[39;00m \u001b[39mimport\u001b[39;00m YOLOv10\n\u001b[0;32m      5\u001b[0m model \u001b[39m=\u001b[39m YOLOv10(\u001b[39mf\u001b[39m\u001b[39m'\u001b[39m\u001b[39m{\u001b[39;00mHOME\u001b[39m}\u001b[39;00m\u001b[39m/weights/yolov10n.pt\u001b[39m\u001b[39m'\u001b[39m)\n",
      "\u001b[1;31mModuleNotFoundError\u001b[0m: No module named 'supervision'"
     ]
    }
   ],
   "source": [
    "import cv2\n",
    "import supervision as sv\n",
    "from ultralytics import YOLOv10\n",
    "\n",
    "model = YOLOv10(f'{HOME}/weights/yolov10n.pt')\n",
    "image = cv2.imread(f'/content/img.png')\n",
    "results = model(image)[0]\n",
    "detections = sv.Detections.from_ultralytics(results)\n",
    "\n",
    "bounding_box_annotator = sv.BoundingBoxAnnotator()\n",
    "label_annotator = sv.LabelAnnotator()\n",
    "\n",
    "annotated_image = bounding_box_annotator.annotate(\n",
    "    scene=image, detections=detections)\n",
    "annotated_image = label_annotator.annotate(\n",
    "    scene=annotated_image, detections=detections)\n",
    "\n",
    "sv.plot_image(annotated_image)\n"
   ]
  },
  {
   "cell_type": "code",
   "execution_count": 2,
   "metadata": {},
   "outputs": [
    {
     "name": "stdout",
     "output_type": "stream",
     "text": [
      "Package                   Version              Editable project location\n",
      "------------------------- -------------------- --------------------------------------------------\n",
      "aiofiles                  23.2.1\n",
      "altair                    5.3.0\n",
      "annotated-types           0.7.0\n",
      "anyio                     4.4.0\n",
      "asttokens                 2.4.1\n",
      "attrs                     23.2.0\n",
      "certifi                   2024.6.2\n",
      "charset-normalizer        3.3.2\n",
      "click                     8.1.7\n",
      "colorama                  0.4.6\n",
      "coloredlogs               15.0.1\n",
      "comm                      0.2.2\n",
      "contourpy                 1.2.1\n",
      "cycler                    0.12.1\n",
      "debugpy                   1.8.1\n",
      "decorator                 5.1.1\n",
      "dnspython                 2.6.1\n",
      "email_validator           2.1.1\n",
      "exceptiongroup            1.2.1\n",
      "executing                 2.0.1\n",
      "fastapi                   0.111.0\n",
      "fastapi-cli               0.0.4\n",
      "ffmpy                     0.3.2\n",
      "filelock                  3.14.0\n",
      "flatbuffers               24.3.25\n",
      "fonttools                 4.53.0\n",
      "fsspec                    2024.6.0\n",
      "gradio                    4.31.5\n",
      "gradio_client             0.16.4\n",
      "h11                       0.14.0\n",
      "httpcore                  1.0.5\n",
      "httptools                 0.6.1\n",
      "httpx                     0.27.0\n",
      "huggingface-hub           0.23.2\n",
      "humanfriendly             10.0\n",
      "idna                      3.7\n",
      "importlib_metadata        7.1.0\n",
      "importlib_resources       6.4.0\n",
      "ipykernel                 6.29.4\n",
      "ipython                   8.18.1\n",
      "jedi                      0.19.1\n",
      "Jinja2                    3.1.4\n",
      "jsonschema                4.22.0\n",
      "jsonschema-specifications 2023.12.1\n",
      "jupyter_client            8.6.2\n",
      "jupyter_core              5.7.2\n",
      "kiwisolver                1.4.5\n",
      "markdown-it-py            3.0.0\n",
      "MarkupSafe                2.1.5\n",
      "matplotlib                3.9.0\n",
      "matplotlib-inline         0.1.7\n",
      "mdurl                     0.1.2\n",
      "mpmath                    1.3.0\n",
      "nest-asyncio              1.6.0\n",
      "networkx                  3.2.1\n",
      "numpy                     1.26.4\n",
      "onnx                      1.14.0\n",
      "onnxruntime               1.15.1\n",
      "onnxruntime-gpu           1.18.0\n",
      "onnxsim                   0.4.36\n",
      "opencv-python             4.9.0.80\n",
      "orjson                    3.10.3\n",
      "packaging                 24.0\n",
      "pandas                    2.2.2\n",
      "parso                     0.8.4\n",
      "pillow                    10.3.0\n",
      "pip                       22.0.4\n",
      "platformdirs              4.2.2\n",
      "prompt_toolkit            3.0.46\n",
      "protobuf                  5.27.0\n",
      "psutil                    5.9.8\n",
      "pure-eval                 0.2.2\n",
      "py-cpuinfo                9.0.0\n",
      "pycocotools               2.0.7\n",
      "pydantic                  2.7.3\n",
      "pydantic_core             2.18.4\n",
      "pydub                     0.25.1\n",
      "Pygments                  2.18.0\n",
      "pyparsing                 3.1.2\n",
      "pyreadline3               3.4.1\n",
      "python-dateutil           2.9.0.post0\n",
      "python-dotenv             1.0.1\n",
      "python-multipart          0.0.9\n",
      "pytz                      2024.1\n",
      "pywin32                   306\n",
      "PyYAML                    6.0.1\n",
      "pyzmq                     26.0.3\n",
      "referencing               0.35.1\n",
      "requests                  2.32.3\n",
      "rich                      13.7.1\n",
      "rpds-py                   0.18.1\n",
      "ruff                      0.4.7\n",
      "safetensors               0.4.3\n",
      "scipy                     1.13.0\n",
      "seaborn                   0.13.2\n",
      "semantic-version          2.10.0\n",
      "setuptools                58.1.0\n",
      "shellingham               1.5.4\n",
      "six                       1.16.0\n",
      "sniffio                   1.3.1\n",
      "stack-data                0.6.3\n",
      "starlette                 0.37.2\n",
      "sympy                     1.12.1\n",
      "thop                      0.1.1.post2209072238\n",
      "tomlkit                   0.12.0\n",
      "toolz                     0.12.1\n",
      "torch                     2.0.1\n",
      "torchvision               0.15.2\n",
      "tornado                   6.4\n",
      "tqdm                      4.66.4\n",
      "traitlets                 5.14.3\n",
      "typer                     0.12.3\n",
      "typing_extensions         4.12.1\n",
      "tzdata                    2024.1\n",
      "ujson                     5.10.0\n",
      "ultralytics               8.1.34               C:\\Users\\ahmad\\OneDrive\\Documents\\gemastik\\yolov10\n",
      "urllib3                   2.2.1\n",
      "uvicorn                   0.30.1\n",
      "watchfiles                0.22.0\n",
      "wcwidth                   0.2.13\n",
      "websockets                11.0.3\n",
      "zipp                      3.19.2\n"
     ]
    },
    {
     "name": "stderr",
     "output_type": "stream",
     "text": [
      "WARNING: You are using pip version 22.0.4; however, version 24.0 is available.\n",
      "You should consider upgrading via the 'C:\\Users\\ahmad\\OneDrive\\Documents\\gemastik\\yolov10\\myenv\\Scripts\\python.exe -m pip install --upgrade pip' command.\n"
     ]
    }
   ],
   "source": [
    "!pip list"
   ]
  },
  {
   "cell_type": "code",
   "execution_count": null,
   "metadata": {},
   "outputs": [],
   "source": []
  }
 ],
 "metadata": {
  "kernelspec": {
   "display_name": "myenv",
   "language": "python",
   "name": "python3"
  },
  "language_info": {
   "codemirror_mode": {
    "name": "ipython",
    "version": 3
   },
   "file_extension": ".py",
   "mimetype": "text/x-python",
   "name": "python",
   "nbconvert_exporter": "python",
   "pygments_lexer": "ipython3",
   "version": "3.9.13"
  },
  "orig_nbformat": 4
 },
 "nbformat": 4,
 "nbformat_minor": 2
}
